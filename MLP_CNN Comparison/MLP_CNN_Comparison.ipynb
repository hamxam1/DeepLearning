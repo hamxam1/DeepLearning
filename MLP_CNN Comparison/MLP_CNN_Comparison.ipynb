{
  "cells": [
    {
      "cell_type": "markdown",
      "metadata": {
        "id": "O8jDOrDCRjVk"
      },
      "source": [
        "# Handwritten Digit Recognition Comparison \n",
        "     Hamza Mustafa (hamxam1.github.io)\n",
        "\n",
        "\n",
        "\n",
        "In this deep learning task, A comparison of MLP with CNN.\n",
        " \n",
        " I have used the prediction error to compare the models.\n",
        "\n"
      ]
    },
    {
      "cell_type": "markdown",
      "metadata": {
        "id": "NCXpy6uuRjV0"
      },
      "source": [
        "## Importing Dataset directly by keras\n",
        "\n",
        "Here are some handwritten numbers from the dataset."
      ]
    },
    {
      "cell_type": "code",
      "execution_count": 19,
      "metadata": {
        "colab": {
          "base_uri": "https://localhost:8080/",
          "height": 268
        },
        "id": "KnwPhRRHRjV3",
        "outputId": "637d9e3a-34eb-4b94-e7ff-2b7367c4416d"
      },
      "outputs": [
        {
          "output_type": "display_data",
          "data": {
            "text/plain": [
              "<Figure size 432x288 with 9 Axes>"
            ],
            "image/png": "[encoded data removed]"
          },
          "metadata": {
            "needs_background": "light"
          }
        }
      ],
      "source": [
        "from keras.datasets import mnist \n",
        "from matplotlib import pyplot \n",
        " #load\n",
        "(X_train, y_train), (X_test, y_test) = mnist.load_data() \n",
        "# create a grid of 3x3 images \n",
        "for i in range(0, 9): \n",
        "    pyplot.subplot(330 + 1 + i) \n",
        "    pyplot.imshow(X_train[i], cmap=pyplot.get_cmap('gray'))\n",
        "\n",
        "pyplot.show()"
      ]
    },
    {
      "cell_type": "markdown",
      "metadata": {
        "id": "OQ6mNdL3RjV-"
      },
      "source": [
        "## Multilayer Perceptron Model\n",
        "\n",
        "I am implementing MLP, where image is flatten into 1-D array and grayscale values are normalized to 0-1. \n",
        "\n",
        "Finally, we change the categories 1-9 into a binary matrix.\n",
        "\n",
        "Our  network structure is as follows:\n",
        "\n",
        "**Input Layer (784 Inputs) >> Hidden Layer (784 Neurons) >> Output Layer (10 Outputs)**"
      ]
    },
    {
      "cell_type": "code",
      "execution_count": 18,
      "metadata": {
        "colab": {
          "base_uri": "https://localhost:8080/"
        },
        "id": "p-hIsJrlRjWB",
        "outputId": "3c1e7716-4b33-4ebe-e058-32350768904b"
      },
      "outputs": [
        {
          "output_type": "stream",
          "name": "stdout",
          "text": [
            "Epoch 1/10\n",
            "300/300 - 1s - loss: 0.2830 - accuracy: 0.9182 - val_loss: 0.1424 - val_accuracy: 0.9580 - 1s/epoch - 5ms/step\n",
            "Epoch 2/10\n",
            "300/300 - 1s - loss: 0.1108 - accuracy: 0.9678 - val_loss: 0.0933 - val_accuracy: 0.9724 - 806ms/epoch - 3ms/step\n",
            "Epoch 3/10\n",
            "300/300 - 1s - loss: 0.0716 - accuracy: 0.9794 - val_loss: 0.0750 - val_accuracy: 0.9767 - 845ms/epoch - 3ms/step\n",
            "Epoch 4/10\n",
            "300/300 - 1s - loss: 0.0504 - accuracy: 0.9857 - val_loss: 0.0672 - val_accuracy: 0.9784 - 802ms/epoch - 3ms/step\n",
            "Epoch 5/10\n",
            "300/300 - 1s - loss: 0.0375 - accuracy: 0.9893 - val_loss: 0.0650 - val_accuracy: 0.9789 - 827ms/epoch - 3ms/step\n",
            "Epoch 6/10\n",
            "300/300 - 1s - loss: 0.0269 - accuracy: 0.9930 - val_loss: 0.0613 - val_accuracy: 0.9799 - 763ms/epoch - 3ms/step\n",
            "Epoch 7/10\n",
            "300/300 - 1s - loss: 0.0185 - accuracy: 0.9953 - val_loss: 0.0631 - val_accuracy: 0.9803 - 830ms/epoch - 3ms/step\n",
            "Epoch 8/10\n",
            "300/300 - 1s - loss: 0.0141 - accuracy: 0.9970 - val_loss: 0.0581 - val_accuracy: 0.9822 - 838ms/epoch - 3ms/step\n",
            "Epoch 9/10\n",
            "300/300 - 1s - loss: 0.0106 - accuracy: 0.9981 - val_loss: 0.0605 - val_accuracy: 0.9813 - 824ms/epoch - 3ms/step\n",
            "Epoch 10/10\n",
            "300/300 - 1s - loss: 0.0081 - accuracy: 0.9983 - val_loss: 0.0571 - val_accuracy: 0.9824 - 828ms/epoch - 3ms/step\n",
            "Baseline Error: 1.76%\n"
          ]
        }
      ],
      "source": [
        "import numpy\n",
        "from keras.datasets import mnist\n",
        "from keras.models import Sequential\n",
        "from keras.layers import Dense\n",
        "from keras.layers import Dropout\n",
        "from keras.utils import np_utils\n",
        "#random seed for reproduction\n",
        "seed = 7\n",
        "numpy.random.seed(seed)\n",
        "(X_train, y_train), (X_test, y_test) = mnist.load_data()\n",
        "# flatten 28*28 images to a 784 \n",
        "num_pixels = X_train.shape[1] * X_train.shape[2]\n",
        "X_train = X_train.reshape(X_train.shape[0], num_pixels).astype('float32')\n",
        "X_test = X_test.reshape(X_test.shape[0], num_pixels).astype('float32')\n",
        "# normalize inputs from 0-255 to 0-1\n",
        "X_train = X_train / 255\n",
        "X_test = X_test / 255\n",
        "# one hot encode outputs\n",
        "y_train = np_utils.to_categorical(y_train)\n",
        "y_test = np_utils.to_categorical(y_test)\n",
        "num_classes = y_test.shape[1]\n",
        "\n",
        "def mlp():\n",
        "\t# create model\n",
        "\tmodel = Sequential()\n",
        "\tmodel.add(Dense(num_pixels, input_dim=num_pixels, kernel_initializer='normal', activation='relu'))\n",
        "\tmodel.add(Dense(num_classes, kernel_initializer='normal', activation='softmax'))\n",
        "\t# Compile model\n",
        "\tmodel.compile(loss='categorical_crossentropy', optimizer='adam', metrics=['accuracy'])\n",
        "\treturn model\n",
        "# build the model\n",
        "model = mlp()\n",
        "# Fit the model\n",
        "model.fit(X_train, y_train, validation_data=(X_test, y_test), epochs=10, batch_size=200, verbose=2)\n",
        "# Final evaluation of the model\n",
        "scores = model.evaluate(X_test, y_test, verbose=0)\n",
        "print(\"MLP Error: %.2f%%\" % (100-scores[1]*100))\n"
      ]
    },
    {
      "cell_type": "markdown",
      "metadata": {
        "id": "7Vx3t4IiRjWF"
      },
      "source": [
        "## Convolutional Neural Network for MNIST\n",
        "\n",
        "As we have seen above, we achieved around 1-2% error. Now, i will take convolutional neural networks. I will apply CNN implementation, including convolutional layers, pooling layers, and dropout layers.\n",
        "\n",
        "Model is like this (can changes with time ):\n",
        "1. We add a convolutional layer with 32 feature maps, with a size of 5 x 5. This is also our input layer which expects images to be added.\n",
        "2. We then define a pool size of 2 x 2.\n",
        "3. We randomly dropout 20% of our neurons to reduce the amount of overfitting.\n",
        "4. We then flatten our data.\n",
        "5. We add 128 neurons activation function.\n",
        "6. Finally we use 10 neurons for the 10 prediction classes with a softmax activation function to output probability-like prediction for each class.\n",
        "\n",
        "Our current neural network structure is as follows:\n",
        "\n",
        "**Input Layer (1x28x28 Inputs) >> Convolutional Layer (32 maps, 5x5) >> Max Pooling Layer (2x2) >> Dropout Layer (20%) >> Flatten Layer >> Hidden Layer (128 Neurons) >> Output Layer (10 Outputs)**"
      ]
    },
    {
      "cell_type": "code",
      "execution_count": 6,
      "metadata": {
        "colab": {
          "base_uri": "https://localhost:8080/"
        },
        "id": "yiw3ydEMRjWI",
        "outputId": "5db8c5c7-a0bb-479c-d968-5bc60d6392dc"
      },
      "outputs": [
        {
          "output_type": "stream",
          "name": "stdout",
          "text": [
            "Epoch 1/10\n",
            "300/300 [==============================] - 10s 7ms/step - loss: 0.2386 - accuracy: 0.9324 - val_loss: 0.0759 - val_accuracy: 0.9767\n",
            "Epoch 2/10\n",
            "300/300 [==============================] - 2s 6ms/step - loss: 0.0736 - accuracy: 0.9772 - val_loss: 0.0474 - val_accuracy: 0.9846\n",
            "Epoch 3/10\n",
            "300/300 [==============================] - 2s 6ms/step - loss: 0.0518 - accuracy: 0.9843 - val_loss: 0.0455 - val_accuracy: 0.9842\n",
            "Epoch 4/10\n",
            "300/300 [==============================] - 2s 6ms/step - loss: 0.0406 - accuracy: 0.9875 - val_loss: 0.0498 - val_accuracy: 0.9834\n",
            "Epoch 5/10\n",
            "300/300 [==============================] - 2s 6ms/step - loss: 0.0344 - accuracy: 0.9890 - val_loss: 0.0398 - val_accuracy: 0.9870\n",
            "Epoch 6/10\n",
            "300/300 [==============================] - 2s 6ms/step - loss: 0.0281 - accuracy: 0.9912 - val_loss: 0.0368 - val_accuracy: 0.9875\n",
            "Epoch 7/10\n",
            "300/300 [==============================] - 2s 6ms/step - loss: 0.0218 - accuracy: 0.9933 - val_loss: 0.0382 - val_accuracy: 0.9879\n",
            "Epoch 8/10\n",
            "300/300 [==============================] - 2s 6ms/step - loss: 0.0199 - accuracy: 0.9938 - val_loss: 0.0324 - val_accuracy: 0.9892\n",
            "Epoch 9/10\n",
            "300/300 [==============================] - 2s 6ms/step - loss: 0.0170 - accuracy: 0.9945 - val_loss: 0.0326 - val_accuracy: 0.9898\n",
            "Epoch 10/10\n",
            "300/300 [==============================] - 2s 6ms/step - loss: 0.0137 - accuracy: 0.9956 - val_loss: 0.0348 - val_accuracy: 0.9893\n",
            "CNN Error: 1.07%\n"
          ]
        }
      ],
      "source": [
        "import numpy\n",
        "from keras.datasets import mnist\n",
        "from keras.models import Sequential\n",
        "from keras.layers import Dense\n",
        "from keras.layers import Dropout\n",
        "from keras.layers import Flatten\n",
        "from keras.layers.convolutional import Conv2D\n",
        "from keras.layers.convolutional import MaxPooling2D\n",
        "from keras.utils import np_utils\n",
        "from keras import backend as K\n",
        "K.image_dim_ordering='channel_first'\n",
        "# fix random seed for reproducibility\n",
        "seed = 7\n",
        "numpy.random.seed(seed)\n",
        "\n",
        "(X_train, y_train), (X_test, y_test) = mnist.load_data()\n",
        "# reshape image into (samples,channel,width,height)\n",
        "X_train = X_train.reshape(X_train.shape[0], 1, 28, 28).astype('float32')\n",
        "X_test = X_test.reshape(X_test.shape[0], 1, 28, 28).astype('float32')\n",
        "# normalize inputs from 0-255 to 0-1\n",
        "X_train = X_train / 255\n",
        "X_test = X_test / 255\n",
        "# one hot encode outputs\n",
        "y_train = np_utils.to_categorical(y_train)\n",
        "y_test = np_utils.to_categorical(y_test)\n",
        "num_classes = y_test.shape[1]\n",
        "\n",
        "def cnn():\n",
        "\n",
        "\tmodel = Sequential()\n",
        "\tmodel.add(Conv2D(32, (5, 5), input_shape=(1, 28,28), activation='relu', padding='same', data_format='channels_first'))\n",
        "\tmodel.add(MaxPooling2D(pool_size=(2, 2)))\n",
        "\tmodel.add(Dropout(0.2))\n",
        "\tmodel.add(Flatten())\n",
        "\tmodel.add(Dense(128, activation='relu'))\n",
        "\tmodel.add(Dense(num_classes, activation='softmax'))\n",
        "\t# Compile model\n",
        "\tmodel.compile(loss='categorical_crossentropy', optimizer='adam', metrics=['accuracy'])\n",
        "\treturn model\n",
        "# build the model\n",
        "model = baseline_model()\n",
        "# Fit the model\n",
        "model.fit(X_train, y_train, validation_data=(X_test, y_test), epochs=10, batch_size=200)\n",
        "# Final evaluation of the model\n",
        "scores = model.evaluate(X_test, y_test, verbose=0)\n",
        "print(\"CNN Error: %.2f%%\" % (100-scores[1]*100))"
      ]
    },
    {
      "cell_type": "markdown",
      "metadata": {
        "id": "9AjJWiHcRjWM"
      },
      "source": [
        "## More deep Convolutional Neural Network\n",
        "\n",
        "Here i got around 1% error, can i reduce it more. I have learnt it that making it deep can help it.\n",
        "\n",
        "New neural network :\n",
        "\n",
        "**Input Layer (1x28x28 Inputs) >> Convolutional Layer (30 maps, 5x5) >> Max Pooling Layer (2x2) >> Convolutional Layer (15 maps, 3x3) >> Max Pooling Layer (2x2) >> Dropout Layer (20%) >> Hidden Layer (128 Neurons) >> Hidden Layer (50 Neurons) >> Output Layer (10 Outputs)**"
      ]
    },
    {
      "cell_type": "code",
      "execution_count": 9,
      "metadata": {
        "colab": {
          "base_uri": "https://localhost:8080/"
        },
        "id": "edwc8yh7RjWO",
        "outputId": "b2126d52-e76e-4b5d-baa5-e1f93a30ab2d"
      },
      "outputs": [
        {
          "output_type": "stream",
          "name": "stdout",
          "text": [
            "Epoch 1/10\n",
            "300/300 [==============================] - 2s 6ms/step - loss: 0.4175 - accuracy: 0.8751 - val_loss: 0.1027 - val_accuracy: 0.9685\n",
            "Epoch 2/10\n",
            "300/300 [==============================] - 2s 5ms/step - loss: 0.1138 - accuracy: 0.9653 - val_loss: 0.0601 - val_accuracy: 0.9815\n",
            "Epoch 3/10\n",
            "300/300 [==============================] - 2s 5ms/step - loss: 0.0817 - accuracy: 0.9751 - val_loss: 0.0538 - val_accuracy: 0.9827\n",
            "Epoch 4/10\n",
            "300/300 [==============================] - 2s 5ms/step - loss: 0.0659 - accuracy: 0.9803 - val_loss: 0.0440 - val_accuracy: 0.9866\n",
            "Epoch 5/10\n",
            "300/300 [==============================] - 2s 5ms/step - loss: 0.0586 - accuracy: 0.9816 - val_loss: 0.0431 - val_accuracy: 0.9855\n",
            "Epoch 6/10\n",
            "300/300 [==============================] - 2s 5ms/step - loss: 0.0499 - accuracy: 0.9843 - val_loss: 0.0369 - val_accuracy: 0.9882\n",
            "Epoch 7/10\n",
            "300/300 [==============================] - 2s 5ms/step - loss: 0.0442 - accuracy: 0.9861 - val_loss: 0.0308 - val_accuracy: 0.9904\n",
            "Epoch 8/10\n",
            "300/300 [==============================] - 2s 5ms/step - loss: 0.0395 - accuracy: 0.9872 - val_loss: 0.0359 - val_accuracy: 0.9878\n",
            "Epoch 9/10\n",
            "300/300 [==============================] - 2s 5ms/step - loss: 0.0362 - accuracy: 0.9886 - val_loss: 0.0291 - val_accuracy: 0.9919\n",
            "Epoch 10/10\n",
            "300/300 [==============================] - 2s 5ms/step - loss: 0.0336 - accuracy: 0.9891 - val_loss: 0.0324 - val_accuracy: 0.9907\n",
            "Large CNN Error: 0.93%\n"
          ]
        }
      ],
      "source": [
        "import numpy\n",
        "from keras.datasets import mnist\n",
        "from keras.models import Sequential\n",
        "from keras.layers import Dense\n",
        "from keras.layers import Dropout\n",
        "from keras.layers import Flatten\n",
        "from keras.layers.convolutional import Conv2D\n",
        "from keras.layers.convolutional import MaxPooling2D\n",
        "from keras.utils import np_utils\n",
        "from keras import backend as K\n",
        "K.image_dim_ordering='channel_first'\n",
        "# fix random seed for reproducibility\n",
        "seed = 7\n",
        "numpy.random.seed(seed)\n",
        "(X_train, y_train), (X_test, y_test) = mnist.load_data()\n",
        "X_train = X_train.reshape(X_train.shape[0], 1, 28, 28).astype('float32')\n",
        "X_test = X_test.reshape(X_test.shape[0], 1, 28, 28).astype('float32')\n",
        "# normalize inputs from 0-255 to 0-1\n",
        "X_train = X_train / 255\n",
        "X_test = X_test / 255\n",
        "# one hot encode outputs\n",
        "y_train = np_utils.to_categorical(y_train)\n",
        "y_test = np_utils.to_categorical(y_test)\n",
        "num_classes = y_test.shape[1]\n",
        "\n",
        "def cnn_2():\n",
        "\n",
        "\tmodel = Sequential()\n",
        "\tmodel.add(Conv2D(30, (5, 5), input_shape=(1, 28, 28), padding='same', data_format='channels_first'))\n",
        "\tmodel.add(MaxPooling2D(pool_size=(2, 2)))\n",
        "\tmodel.add(Conv2D(15, (3, 3), activation='relu'))\n",
        "\tmodel.add(MaxPooling2D(pool_size=(2, 2)))\n",
        "\tmodel.add(Dropout(0.2))\n",
        "\tmodel.add(Flatten())\n",
        "\tmodel.add(Dense(128, activation='relu'))\n",
        "\tmodel.add(Dense(50, activation='relu'))\n",
        "\tmodel.add(Dense(num_classes, activation='softmax'))\n",
        "\t# Compile model\n",
        "\tmodel.compile(loss='categorical_crossentropy', optimizer='adam', metrics=['accuracy'])\n",
        "\treturn model\n",
        "# build the model\n",
        "model = cnn_2()\n",
        "# Fit the model\n",
        "model.fit(X_train, y_train, validation_data=(X_test, y_test), epochs=10, batch_size=200)\n",
        "# Final evaluation of the model\n",
        "scores = model.evaluate(X_test, y_test, verbose=0)\n",
        "print(\"Deep CNN Error: %.2f%%\" % (100-scores[1]*100))"
      ]
    },
    {
      "cell_type": "markdown",
      "metadata": {
        "id": "7yRDaNnxRjWS"
      },
      "source": [
        "## Result\n",
        "\n",
        "As i applied more convolutional neural network , i was able to go from 1-2% prediction error to less than 1%. 0.93% error can still be improved by tunning hyperparameter. I have studied in class about augentation techniques, which are applied below: "
      ]
    },
    {
      "cell_type": "markdown",
      "metadata": {
        "id": "CWUjoZaCRjWU"
      },
      "source": [
        "###Augmentation Techniques\n",
        "\n"
      ]
    },
    {
      "cell_type": "code",
      "execution_count": null,
      "metadata": {
        "id": "JjmngO_zRjWV",
        "outputId": "99100a17-5b27-4ade-e4d6-e519658513b4"
      },
      "outputs": [
        {
          "data": {
            "image/png": "[encoded data removed]",
            "text/plain": [
              "<matplotlib.figure.Figure at 0x17786adbf60>"
            ]
          },
          "metadata": {},
          "output_type": "display_data"
        }
      ],
      "source": [
        "from keras.datasets import mnist \n",
        "from matplotlib import pyplot \n",
        "# load data \n",
        "(X_train, y_train), (X_test, y_test) = mnist.load_data() \n",
        "# create a grid of 3x3 images \n",
        "for i in range(0, 9): \n",
        "    pyplot.subplot(330 + 1 + i) \n",
        "    pyplot.imshow(X_train[i], cmap=pyplot.get_cmap('gray'))\n",
        "# show the plot\n",
        "pyplot.show()"
      ]
    },
    {
      "cell_type": "markdown",
      "metadata": {
        "id": "A102rm0PRjWd"
      },
      "source": [
        "### Random Rotations\n",
        "\n",
        "I used keras datagenerator for this purpose, i will rotate the images in batch of 9."
      ]
    },
    {
      "cell_type": "code",
      "execution_count": null,
      "metadata": {
        "id": "BY_MCWiYRjWd",
        "outputId": "5f003162-5a06-48b8-8f92-9c91a226175c"
      },
      "outputs": [
        {
          "data": {
            "image/png": "[encoded data removed]",
            "text/plain": [
              "<matplotlib.figure.Figure at 0x1778b838be0>"
            ]
          },
          "metadata": {},
          "output_type": "display_data"
        }
      ],
      "source": [
        "# Random Rotations\n",
        "from keras.datasets import mnist\n",
        "from keras.preprocessing.image import ImageDataGenerator\n",
        "from matplotlib import pyplot\n",
        "from keras import backend as K\n",
        "K.image_dim_ordering='channel_first'\n",
        "# load data\n",
        "(X_train, y_train), (X_test, y_test) = mnist.load_data()\n",
        "X_train = X_train.reshape(X_train.shape[0], 1, 28, 28)\n",
        "X_test = X_test.reshape(X_test.shape[0], 1, 28, 28)\n",
        "# convert from int to float\n",
        "X_train = X_train.astype('float32')\n",
        "X_test = X_test.astype('float32')\n",
        "# define data preparation\n",
        "datagen = ImageDataGenerator(rotation_range=90)\n",
        "# fit parameters from data\n",
        "datagen.fit(X_train)\n",
        "# configure batch size and retrieve one batch of images\n",
        "for X_batch, y_batch in datagen.flow(X_train, y_train, batch_size=9):\n",
        "\t# create a grid of 3x3 images\n",
        "\tfor i in range(0, 9):\n",
        "\t\tpyplot.subplot(330 + 1 + i)\n",
        "\t\tpyplot.imshow(X_batch[i].reshape(28, 28), cmap=pyplot.get_cmap('gray'))\n",
        "\t# show the plot\n",
        "\tpyplot.show()\n",
        "\tbreak"
      ]
    }
  ],
  "metadata": {
    "kernelspec": {
      "display_name": "Python 3",
      "language": "python",
      "name": "python3"
    },
    "language_info": {
      "codemirror_mode": {
        "name": "ipython",
        "version": 3
      },
      "file_extension": ".py",
      "mimetype": "text/x-python",
      "name": "python",
      "nbconvert_exporter": "python",
      "pygments_lexer": "ipython3",
      "version": "3.6.1"
    },
    "colab": {
      "name": "MLP_CNN_Comparison.ipynb",
      "provenance": []
    },
    "accelerator": "GPU"
  },
  "nbformat": 4,
  "nbformat_minor": 0
}